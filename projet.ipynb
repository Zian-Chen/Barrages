{
 "cells": [
  {
   "cell_type": "code",
   "execution_count": 2,
   "metadata": {},
   "outputs": [],
   "source": [
    "import numpy as np\n",
    "import matplotlib.pyplot as plt\n",
    "import scipy.stats as sps"
   ]
  },
  {
   "cell_type": "code",
   "execution_count": 3,
   "metadata": {},
   "outputs": [],
   "source": [
    "r1 = 0.1\n",
    "r2 = 0.2\n",
    "def r_1(x):\n",
    "    return r1*x\n",
    "def r_2(x):\n",
    "    return r2*x\n",
    "def int_r_1(x):\n",
    "    \"\"\"\n",
    "        integral of r_1\n",
    "    \"\"\"\n",
    "    return r1/2*x**2\n",
    "def int_r_2(x):\n",
    "    \"\"\"\n",
    "        integral of r_2\n",
    "    \"\"\"\n",
    "    return r2/2*x**2"
   ]
  },
  {
   "cell_type": "markdown",
   "metadata": {},
   "source": [
    "#### Modelisation of $A_t^i=\\sum_{n=1}^{N_t^i}U_n^i$"
   ]
  },
  {
   "cell_type": "code",
   "execution_count": 7,
   "metadata": {},
   "outputs": [],
   "source": [
    "# N_t^i is a Possion process with parameter lambda_i\n",
    "lambda_1 = 1\n",
    "lambda_2 = 2\n",
    "\n",
    "class combination_exponential():\n",
    "    \"\"\"\n",
    "        Combination of two exponential random variables which models the strong and weak rainfalls, the distribution is given by:\n",
    "        nu(u) = b*delta_1*exp(-delta_1*u)1_{u>0} + (1-b)*delta_2*exp(-delta_2*u)1_{u>0}\n",
    "    \"\"\"\n",
    "    def __init__(self, b, delta_1, delta_2):\n",
    "        assert b > 0 and b < 1\n",
    "        assert delta_1 > 0\n",
    "        assert delta_2 > 0\n",
    "        self.b = b\n",
    "        self.delta_1 = delta_1\n",
    "        self.delta_2 = delta_2\n",
    "\n",
    "    def pdf(self, u):\n",
    "        \"\"\"\n",
    "            Probability density function of the combination of two exponential random variables\n",
    "        \"\"\"\n",
    "        assert u >= 0\n",
    "        return self.b*self.delta_1*np.exp(-self.delta_1*u) + (1-self.b)*self.delta_2*np.exp(-self.delta_2*u)\n",
    "\n",
    "    def cdf(self, u):\n",
    "        \"\"\"\n",
    "            Cumulative distribution function of the combination of two exponential random variables\n",
    "        \"\"\"\n",
    "        assert u >= 0\n",
    "        return self.b*(1-np.exp(-self.delta_1*u)) + (1-self.b)*(1-np.exp(-self.delta_2*u))\n",
    "    \n",
    "    def rvs(self, size):\n",
    "        \"\"\"\n",
    "            Random variates of the combination of two exponential random variables\n",
    "        \"\"\"\n",
    "        X = np.random.rand(size)\n",
    "        return np.random.exponential(1/self.delta_1, size=size) * (X < self.b) + np.random.exponential(1/self.delta_2, size=size) * (X >= self.b)"
   ]
  },
  {
   "cell_type": "code",
   "execution_count": 8,
   "metadata": {},
   "outputs": [
    {
     "data": {
      "image/png": "[encoded data removed]",
      "text/plain": [
       "<Figure size 640x480 with 1 Axes>"
      ]
     },
     "metadata": {},
     "output_type": "display_data"
    }
   ],
   "source": [
    "ce = combination_exponential(0.999, 2, 20)\n",
    "X = ce.rvs(1000)\n",
    "plt.hist(X, bins=100, density=True)\n",
    "plt.plot(np.linspace(0, np.max(X), 100), [ce.pdf(x) for x in np.linspace(0, np.max(X), 100)], 'r')\n",
    "plt.show()"
   ]
  },
  {
   "cell_type": "code",
   "execution_count": null,
   "metadata": {},
   "outputs": [],
   "source": []
  }
 ],
 "metadata": {
  "kernelspec": {
   "display_name": "psc_new",
   "language": "python",
   "name": "python3"
  },
  "language_info": {
   "codemirror_mode": {
    "name": "ipython",
    "version": 3
   },
   "file_extension": ".py",
   "mimetype": "text/x-python",
   "name": "python",
   "nbconvert_exporter": "python",
   "pygments_lexer": "ipython3",
   "version": "3.11.3"
  }
 },
 "nbformat": 4,
 "nbformat_minor": 2
}
