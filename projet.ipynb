{
 "cells": [
  {
   "cell_type": "code",
   "execution_count": 1,
   "metadata": {},
   "outputs": [],
   "source": [
    "import numpy as np\n",
    "import matplotlib.pyplot as plt\n",
    "import scipy.stats as sps"
   ]
  },
  {
   "cell_type": "markdown",
   "metadata": {},
   "source": [
    "#### Modelisation of $A_t^i=\\sum_{n=1}^{N_t^i}U_n^i$"
   ]
  },
  {
   "cell_type": "code",
   "execution_count": 2,
   "metadata": {},
   "outputs": [],
   "source": [
    "# N_t^i is a Possion process with parameter lambda_i\n",
    "\n",
    "class combination_exponential():\n",
    "    \"\"\"\n",
    "        Combination of two exponential random variables which models the strong and weak rainfalls, the distribution is given by:\n",
    "        nu(u) = b*delta_1*exp(-delta_1*u)1_{u>0} + (1-b)*delta_2*exp(-delta_2*u)1_{u>0}\n",
    "    \"\"\"\n",
    "    def __init__(self, b, delta_1, delta_2):\n",
    "        assert b > 0 and b < 1\n",
    "        assert delta_1 > 0\n",
    "        assert delta_2 > 0\n",
    "        self.b = b\n",
    "        self.delta_1 = delta_1\n",
    "        self.delta_2 = delta_2\n",
    "\n",
    "    def pdf(self, u):\n",
    "        \"\"\"\n",
    "            Probability density function of the combination of two exponential random variables\n",
    "        \"\"\"\n",
    "        if u >= 0:\n",
    "            return self.b*self.delta_1*np.exp(-self.delta_1*u) + (1-self.b)*self.delta_2*np.exp(-self.delta_2*u)\n",
    "        else:\n",
    "            return 0\n",
    "\n",
    "    def cdf(self, u):\n",
    "        \"\"\"\n",
    "            Cumulative distribution function of the combination of two exponential random variables\n",
    "        \"\"\"\n",
    "        assert u >= 0\n",
    "        return self.b*(1-np.exp(-self.delta_1*u)) + (1-self.b)*(1-np.exp(-self.delta_2*u))\n",
    "    \n",
    "    def rvs(self, size):\n",
    "        \"\"\"\n",
    "            Random variates of the combination of two exponential random variables\n",
    "        \"\"\"\n",
    "        X = np.random.rand(size)\n",
    "        return np.random.exponential(1/self.delta_1, size=size) * (X < self.b) + np.random.exponential(1/self.delta_2, size=size) * (X >= self.b)"
   ]
  },
  {
   "cell_type": "code",
   "execution_count": 3,
   "metadata": {},
   "outputs": [
    {
     "data": {
      "image/png": "[encoded data removed]",
      "text/plain": [
       "<Figure size 640x480 with 1 Axes>"
      ]
     },
     "metadata": {},
     "output_type": "display_data"
    }
   ],
   "source": [
    "ce = combination_exponential(0.999, 2, 20)\n",
    "X = ce.rvs(1000)\n",
    "\n",
    "plt.hist(X, bins=100, density=True)\n",
    "plt.plot(np.linspace(0, np.max(X), 100), [ce.pdf(x) for x in np.linspace(0, np.max(X), 100)], 'r')\n",
    "plt.show()"
   ]
  },
  {
   "cell_type": "code",
   "execution_count": 3,
   "metadata": {},
   "outputs": [],
   "source": [
    "from typing import List\n",
    "class Rainfall():\n",
    "    \"\"\"\n",
    "        Rainfall model\n",
    "    \"\"\"\n",
    "    def __init__(self, lam, b, delta_1, delta_2, r, t=None, U_t=None):\n",
    "        self.lam = lam\n",
    "        self.b = b\n",
    "        self.delta_1 = delta_1\n",
    "        self.delta_2 = delta_2\n",
    "        self.r = r\n",
    "        self.ce = combination_exponential(b, delta_1, delta_2)\n",
    "        # list which represents the Possion process N_t\n",
    "        if t is None:\n",
    "            self.t : List = []\n",
    "        else:\n",
    "            self.t = t\n",
    "        # list which represents the quantities of rainfalls at the times t_i\n",
    "        if U_t is None:\n",
    "            self.U_t : List = []\n",
    "        else:\n",
    "            self.U_t = U_t\n",
    "    def simulate_for_fixed_T(self, T):\n",
    "        \"\"\"\n",
    "            Simulate the rainfalls on [0, T]\n",
    "        \"\"\"\n",
    "        N_t = sps.poisson.rvs(self.lam*T)\n",
    "        # no zero at the first\n",
    "        self.t = np.sort(np.random.uniform(0, T, N_t))\n",
    "        self.U_t = self.ce.rvs(N_t)\n",
    "\n",
    "    def reset(self):\n",
    "        \"\"\"\n",
    "            Reset the model\n",
    "        \"\"\"\n",
    "        self.t = []\n",
    "        self.U_t = []\n",
    "\n",
    "    def copy(self):\n",
    "        R = Rainfall(self.lam, self.b, self.delta_1, self.delta_2, self.r, self.t, self.U_t)\n",
    "        return R\n",
    "    \n",
    "    def merge(self, t, U_t):\n",
    "        \"\"\"\n",
    "            Merge two different rainfalls\n",
    "        \"\"\"\n",
    "        merged_t = np.concatenate((self.t, t))\n",
    "        merged_U_t = np.concatenate((self.U_t, U_t))\n",
    "        sorted_indices = sorted(range(len(merged_t)), key=lambda k: merged_t[k])\n",
    "        sorted_t = np.array(sorted(merged_t))\n",
    "        sorted_U_t = np.array([merged_U_t[i] for i in sorted_indices])\n",
    "        return Rainfall(self.lam, self.b, self.delta_1, self.delta_2, self.r, sorted_t, sorted_U_t)\n",
    "    \n",
    "    def get_volume(self, x0):\n",
    "        \"\"\"\n",
    "            Get the volume of the barrage on [0, T]\n",
    "            '''math\n",
    "                X_t = x0 + A_t - int_0^t r*X_s ds\n",
    "            '''\n",
    "        \"\"\"\n",
    "        X = [x0]\n",
    "        for i in range(1, len(self.t)):\n",
    "            X.append(np.exp(-self.r*(self.t[i]-self.t[i-1]))*X[-1]+self.U_t[i])\n",
    "        return X\n",
    "    \n",
    "    def get_volume_at_t(self, X, t):\n",
    "        \"\"\"\n",
    "            Get the volume of the barrage at time t\n",
    "        \"\"\"\n",
    "        if len(self.t) == 0: # no rain\n",
    "            return np.exp(-self.r*t)*X[0]    \n",
    "\n",
    "        if t > self.t[-1]:\n",
    "            return np.exp(-self.r*(t-self.t[-1]))*X[-1]\n",
    "        if t < self.t[0]:\n",
    "            return np.exp(-self.r*t)*X[0]\n",
    "\n",
    "        # get i such that t_i <= t < t_{i+1}\n",
    "        i = 1\n",
    "        while self.t[i] <= t and i < len(self.t)-1:\n",
    "            i += 1\n",
    "        return np.exp(-self.r*(t-self.t[i-1]))*X[i-1]\n"
   ]
  },
  {
   "cell_type": "code",
   "execution_count": 5,
   "metadata": {},
   "outputs": [
    {
     "data": {
      "image/png": "[encoded data removed]",
      "text/plain": [
       "<Figure size 640x480 with 1 Axes>"
      ]
     },
     "metadata": {},
     "output_type": "display_data"
    }
   ],
   "source": [
    "R = Rainfall(70, 0.9, 0.7, 0.07, 1)\n",
    "R.simulate_for_fixed_T(1)\n",
    "X = R.get_volume(1)\n",
    "x = np.linspace(0, 1, 1000)\n",
    "y = [R.get_volume_at_t(X, t) for t in x]\n",
    "plt.plot(R.t, X)\n",
    "plt.plot(x, y)\n",
    "plt.show()"
   ]
  },
  {
   "cell_type": "markdown",
   "metadata": {},
   "source": [
    "Here we determine the value of $x_0$."
   ]
  },
  {
   "cell_type": "code",
   "execution_count": 5,
   "metadata": {},
   "outputs": [
    {
     "name": "stdout",
     "output_type": "stream",
     "text": [
      "191.3250403649885\n"
     ]
    }
   ],
   "source": [
    "R = Rainfall(70, 0.9, 0.7, 0.07, 1)\n",
    "x_T_values = []\n",
    "for _ in range(1000):\n",
    "    R.reset()\n",
    "    R.simulate_for_fixed_T(100)\n",
    "    X = R.get_volume(5)\n",
    "    x_T_values.append(R.get_volume_at_t(X, 100))\n",
    "x_0 = np.mean(x_T_values)\n",
    "print(x_0)\n"
   ]
  },
  {
   "cell_type": "markdown",
   "metadata": {},
   "source": [
    "### Study of a single barrage"
   ]
  },
  {
   "cell_type": "code",
   "execution_count": 22,
   "metadata": {},
   "outputs": [],
   "source": [
    "lambda_1 = 70\n",
    "delta_1 = 0.07\n",
    "delta_2 = 0.7\n",
    "b = 0.9\n",
    "alpha = 1e-6\n",
    "T = 1\n",
    "r_1 = 1\n",
    "\n",
    "N = 1000\n",
    "M = 20\n",
    "\n",
    "class last_particle():\n",
    "    \"\"\"\n",
    "        Last particle algorithm    \n",
    "    \"\"\"\n",
    "    def __init__(self, N, M, x0, T, mode):\n",
    "        \"\"\"\n",
    "            @param N: number of particles\n",
    "            @param M: number of iterations: after M iterations, the new rainfall is considered independent from the original one\n",
    "            @param x0: initial volume of the barrage\n",
    "            @param T: time horizon\n",
    "            @param mode: __T__ for Q1.(a) and __max__ for Q1.(b)\n",
    "        \"\"\"\n",
    "        self.N = N\n",
    "        self.M = M\n",
    "        self.x0 = x0\n",
    "        self.T = T\n",
    "        self.mode = mode\n",
    "\n",
    "    def get_new_rainfall(self, R, L, p=0.5, q=0.9):\n",
    "        \"\"\"\n",
    "            Obtain a new rainfall > L almost independent from the original one\n",
    "        \"\"\"\n",
    "        # idea c.f. TP 5\n",
    "        R_start = R.copy()\n",
    "        for _ in range(self.M):\n",
    "            Unif = np.array(np.random.uniform(0, 1, len(R_start.t)))\n",
    "            retained_indices = np.argwhere(Unif <= p)\n",
    "            retained_indices = retained_indices.ravel()\n",
    "            t_p = R_start.t[retained_indices]\n",
    "            U_t_initial_p = R_start.U_t[retained_indices]\n",
    "            R_other = Rainfall(R.lam*(1-p), R.b, R.delta_1, R.delta_2, R.r)\n",
    "            R_other.simulate_for_fixed_T(self.T)\n",
    "            \n",
    "            # (×)Mention that for those U_t preserved, it is necessary to choose a new one with P(U_t, ·), where P is nu-revertible, c.f. silde 3 page 28 \n",
    "            # (×)Use Metropolis-Hastings algorithm here, with q = standard gaussian, c.f. silde 2 page 22\n",
    "\n",
    "            # For those U_t preserved, obtain a new one with original value in proportion q and new value given by nu in proportion (1-q), c.f. 26/04 visio online\n",
    "            nu = combination_exponential(R.b, R.delta_1, R.delta_2)\n",
    "            q_variation = nu.rvs(len(U_t_initial_p))\n",
    "            U_t_p = q_variation*(1-q) + U_t_initial_p*q\n",
    "\n",
    "            R_next = R_other.merge(t_p, U_t_p)\n",
    "            R_next.lam = R.lam\n",
    "            X_t_next = R_next.get_volume(self.x0)\n",
    "            if self.mode == \"__T__\":\n",
    "                if R_next.get_volume_at_t(X_t_next, T) > L:\n",
    "                    R_start = R_next\n",
    "            if self.mode == \"__max__\":\n",
    "                if np.max(X_t_next) > L:\n",
    "                    R_start = R_next\n",
    "        return R_start\n",
    "    # 输出accept的率试一试\n",
    "\n",
    "    def get_critical_level_and_distribution(self, lam, b, delta_1, delta_2, r, alpha, switch=True, q=0.9, p=0.5):\n",
    "        \"\"\"\n",
    "            Obtain the critical level of (1 - alpha) and overtaking distribution of this level;\n",
    "            True to print the histo, False no\n",
    "        \"\"\"\n",
    "        A_t = []\n",
    "        critical_X_t = []\n",
    "        for _ in range(self.N):\n",
    "            R_initial = Rainfall(lam, b, delta_1, delta_2, r)\n",
    "            R_initial.simulate_for_fixed_T(self.T)\n",
    "            A_t.append(R_initial)\n",
    "            X_t_initial = R_initial.get_volume(self.x0)\n",
    "            if self.mode == \"__T__\":\n",
    "                critical_X_t.append(R_initial.get_volume_at_t(X_t_initial, T))\n",
    "            if self.mode == \"__max__\":\n",
    "                critical_X_t.append(np.max(X_t_initial))\n",
    "        L = np.min(critical_X_t)\n",
    "\n",
    "        # c.f. silde 4 part 1 page 13\n",
    "        stop_index = int(np.ceil(np.log(alpha) / np.log(1-1/self.N)))\n",
    "        for k in range(stop_index):\n",
    "            reached_indices = np.argwhere(critical_X_t == L)\n",
    "            reached_indices = reached_indices.ravel()\n",
    "            outer_indices = np.setdiff1d(np.arange(self.N), reached_indices)\n",
    "            for i in reached_indices:\n",
    "                j = np.random.choice(outer_indices)\n",
    "                R_new = self.get_new_rainfall(A_t[j], L, q=q, p=p)\n",
    "                A_t[i] = R_new\n",
    "                X_t_new = R_new.get_volume(self.x0)\n",
    "                if self.mode == \"__T__\":\n",
    "                    critical_X_t[i] = R_new.get_volume_at_t(X_t_new, T)\n",
    "                if self.mode == \"__max__\":\n",
    "                    critical_X_t[i] = np.max(X_t_new)\n",
    "            L = np.min(critical_X_t)\n",
    "        if switch:\n",
    "            plt.hist(critical_X_t , bins=\"auto\", density=True, histtype=\"step\", label=\"Histogramme n=%1.0f tirages\" %self.N)\n",
    "            plt.legend(fontsize=12, loc=9, bbox_to_anchor=(1.6, 1.0), ncol=1)\n",
    "            plt.show()\n",
    "        return L, critical_X_t\n",
    "    \n",
    "class naive_MonteCarlo():\n",
    "    \"\"\"\n",
    "        Naive Monte-Carlo algorithm\n",
    "    \"\"\"\n",
    "    def __init__(self, N, x0, T, mode):\n",
    "        \"\"\"\n",
    "            __T__ for Q1.(a) and __max__ for Q1.(b)\n",
    "        \"\"\"\n",
    "        self.N = N\n",
    "        self.x0 = x0\n",
    "        self.T = T\n",
    "        self.mode = mode\n",
    "\n",
    "    def get_critical_level(self, lam, b, delta_1, delta_2, r, alpha):\n",
    "        \"\"\"\n",
    "            Obtain the critical level of (1 - alpha) where alpha should not be extremely small\n",
    "        \"\"\"\n",
    "        considered_values = []\n",
    "        for _ in range(self.N):\n",
    "            R = Rainfall(lam, b, delta_1, delta_2, r)\n",
    "            R.simulate_for_fixed_T(self.T)\n",
    "            X_t = R.get_volume(self.x0)\n",
    "            if self.mode == \"__T__\":\n",
    "                considered_values.append(R.get_volume_at_t(X_t, self.T))\n",
    "            if self.mode == \"__max__\":\n",
    "                considered_values.append(np.max(X_t))\n",
    "\n",
    "        # c.f. silde 2 page 5\n",
    "        considered_values = sorted(np.array(considered_values))\n",
    "        index = int(np.ceil((1-alpha)*self.N))\n",
    "        L = considered_values[index-1]\n",
    "        return L\n",
    "    "
   ]
  },
  {
   "cell_type": "code",
   "execution_count": 7,
   "metadata": {},
   "outputs": [],
   "source": [
    "class importance_sampling():\n",
    "    \"\"\" \n",
    "        Importance sampling algorithm for the compound poisson process of parameters (lam, mu)\n",
    "    \"\"\"\n",
    "    def __init__(self, M, x0, T, mode, sigma, beta):\n",
    "        \"\"\"\n",
    "            importance sampling algorithm, here we use f(x) = sigma*x + beta\n",
    "\n",
    "            @param mode: __T__ for Q1.(a) and __max__ for Q1.(b)\n",
    "            @param sigma: parameter of the function f\n",
    "            @param beta: parameter of the function f\n",
    "        \"\"\"\n",
    "        self.M = M\n",
    "        self.x0 = x0\n",
    "        self.T = T\n",
    "        self.mode = mode\n",
    "        self.sigma = sigma\n",
    "        self.beta = beta\n",
    "\n",
    "    def get_lambda_f_nu_f(self, lam, b, delta_1, delta_2):\n",
    "        \"\"\"\n",
    "            Get the parameters after the change of measure\n",
    "        \"\"\"\n",
    "        lambda_f = lam*np.exp(self.beta)*(b*delta_1/(delta_1-self.sigma)+(1-b)*delta_2/(delta_2-self.sigma))\n",
    "        b_f = b*delta_1/(delta_1-self.sigma)/(b*delta_1/(delta_1-self.sigma)+(1-b)*delta_2/(delta_2-self.sigma))\n",
    "        delta_1_f = delta_1-self.sigma\n",
    "        delta_2_f = delta_2-self.sigma\n",
    "        return lambda_f, b_f, delta_1_f, delta_2_f\n",
    "\n",
    "\n",
    "    def get_critical_level(self, lam, b, delta_1, delta_2, r, alpha):\n",
    "        \"\"\"\n",
    "            Run the importance sampling algorithm to estimate E[g(gamma(A_t))], where gamma is a function applied to the trajectory of the compound Poisson process\n",
    "            here A_t represents the rainfalls at time t\n",
    "            if mode == __T__, gamma returns the volume at time T, i.e. gamma(A_t) = X_T where X_t is the volume of the barrage\n",
    "            if mode == __max__, gamma returns the maximum volume on [0, T] i.e. gamma(A_t) = max(X_t)\n",
    "\n",
    "            '''math\n",
    "                E[g(gamma(A_t))] = exp((lam_f-lam)*T)1/M*\\sum_{m=1}^M g(gamma(A_t^{(m)}))exp(-\\sum_{i=1}^{N_T^{(m)}f(U_i^{(m)}))\n",
    "            '''\n",
    "            where A_t^{(m)} are M compound Poisson processes with parameters (lam_f, mu_f)\n",
    "\n",
    "            If we want to estimate the (1-alpha) quantile of the distribution of gamma(A_t), we can use g = 1_{gamma(A_t) > L}\n",
    "            i.e. we want to find L such that E[1_{gamma(A_t) > L}] = alpha\n",
    "\n",
    "            An estimator of L can be obtained by sorting the values of gamma(A_t^{(m)})exp(-\\sum_{i=1}^{N_T^{(m)}f(U_i^{(m)})) and taking the alpha*exp(-(lam_f-lam)*T)th value.\n",
    "\n",
    "        \"\"\"\n",
    "        lambda_f, b_f, delta_1_f, delta_2_f = self.get_lambda_f_nu_f(lam, b, delta_1, delta_2)\n",
    "        values_Xt = []\n",
    "        values = []\n",
    "        for _ in range(self.M):\n",
    "            R = Rainfall(lambda_f, b_f, delta_1_f, delta_2_f, r)\n",
    "            R.simulate_for_fixed_T(self.T)\n",
    "            X_t = R.get_volume(self.x0)\n",
    "\n",
    "            # apply the fuction gamma\n",
    "            if self.mode == \"__T__\":\n",
    "                values_Xt.append(np.exp(-self.sigma*np.sum(R.U_t)-self.beta*len(R.U_t)))\n",
    "                values.append(R.get_volume_at_t(X_t, self.T))\n",
    "            if self.mode == \"__max__\":\n",
    "                values_Xt.append(np.exp(-self.sigma*np.sum(R.U_t)-self.beta*len(R.U_t)))\n",
    "                values.append(np.max(X_t))\n",
    "            \n",
    "        alpha_f = alpha*np.exp(-(lambda_f-lam)*self.T)\n",
    "        indices = np.argsort(values)\n",
    "        sorted_values_Xt = [values_Xt[i] for i in indices][::-1]\n",
    "        idx = 0\n",
    "        sum_values = 0\n",
    "        while sum_values < alpha_f*self.M and idx < self.M:\n",
    "            sum_values += sorted_values_Xt[idx]\n",
    "            idx += 1\n",
    "        L = values[indices[-idx]]\n",
    "        return L\n",
    "        "
   ]
  },
  {
   "cell_type": "markdown",
   "metadata": {},
   "source": [
    "Here we show that these two algorithms are compatible when $\\alpha$ is not extremely small."
   ]
  },
  {
   "cell_type": "code",
   "execution_count": 135,
   "metadata": {},
   "outputs": [],
   "source": [
    "alg_max_1 = last_particle(N*2, M*2, 100, 20, \"__max__\")\n",
    "# alg_T_1 = last_particle(N, M, 100, 20, \"__T__\")\n",
    "# # alg_max_2 = naive_MonteCarlo(N*10, 100, 20, \"__max__\")\n",
    "# # alg_T_2 = naive_MonteCarlo(N*10, 100, 20, \"__T__\")\n",
    "# alg_max_3 = importance_sampling(N*10, 100, 20, \"__max__\", 0.06, 0.2)\n",
    "# # R = Rainfall(1, 0.9, 0.07, 0.7, 0.1)\n",
    "# # R.simulate_for_fixed_T(100)\n",
    "# print(alg_max_1.get_critical_level_and_distribution(1, 0.9, 0.07, 0.7, 0.1, 0.000001, False, q=1))\n",
    "# # print(alg_max_2.get_critical_level(1, 0.9, 0.07, 0.7, 0.1, 0.1))\n",
    "# # print(alg_T_1.get_critical_level_and_distribution(1, 0.9, 0.07, 0.7, 0.1, 0.001, False))\n",
    "# # print(alg_T_2.get_critical_level(1, 0.9, 0.07, 0.7, 0.1, 0.1))\n",
    "# # print(alg_max_3.get_critical_level(1, 0.9, 0.07, 0.7, 0.1, 0.001))"
   ]
  },
  {
   "cell_type": "markdown",
   "metadata": {},
   "source": [
    "For that the algorithm works, one should let $M$ be bigger such that, during the Markov chain, the Poisson processus will not be rejected all the iteration."
   ]
  },
  {
   "cell_type": "code",
   "execution_count": 8,
   "metadata": {},
   "outputs": [],
   "source": [
    "alg_max_3 = importance_sampling(N*10, 100, 20, \"__max__\", 0, -0.2)\n",
    "alg_max_2 = naive_MonteCarlo(N*10, 100, 20, \"__max__\")\n",
    "# print(alg_max_2.get_critical_level(1, 0.9, 0.07, 0.7, 0.1, 0.000001))\n",
    "# print(alg_max_3.get_critical_level(1, 0.9, 0.07, 0.7, 0.1, 0.000001))"
   ]
  },
  {
   "cell_type": "markdown",
   "metadata": {},
   "source": [
    "Here we show that these two algorithms are compatible."
   ]
  },
  {
   "cell_type": "code",
   "execution_count": 24,
   "metadata": {},
   "outputs": [
    {
     "data": {
      "image/png": "[encoded data removed]",
      "text/plain": [
       "<Figure size 640x480 with 1 Axes>"
      ]
     },
     "metadata": {},
     "output_type": "display_data"
    },
    {
     "name": "stdout",
     "output_type": "stream",
     "text": [
      "[778.6282904298903, 808.5721205525367]\n",
      "[796.1202970959419, 817.0918158310174]\n"
     ]
    }
   ],
   "source": [
    "alg_max = last_particle(100, M, 190, 1, \"__max__\")\n",
    "L_lp = []\n",
    "values_lp = []\n",
    "for _ in range(10):\n",
    "    L, values = alg_max.get_critical_level_and_distribution(70, 0.9, 0.07, 0.7, 1, 0.1, False, p=0.6)\n",
    "    L_lp.append(L)\n",
    "    values_lp = values_lp + values\n",
    "plt.hist(values_lp, bins=\"auto\", density=True, histtype=\"step\", label=\"Histogramme n=%1.0f tirages\" %N)\n",
    "plt.legend(fontsize=12, loc=9, bbox_to_anchor=(1.6, 1.0), ncol=1)\n",
    "plt.show()\n",
    "print([min(L_lp), max(L_lp)])\n",
    "alg_max_2 = naive_MonteCarlo(N, 190, 1, \"__max__\")\n",
    "L_nM = []\n",
    "for _ in range(10):\n",
    "    L = alg_max_2.get_critical_level(70, 0.9, 0.07, 0.7, 1, 0.1)\n",
    "    L_nM.append(L)\n",
    "print([min(L_nM), max(L_nM)])"
   ]
  },
  {
   "cell_type": "markdown",
   "metadata": {},
   "source": [
    "We condsider now the parametre $p\\in[0,1]$. The parametre $p$ indicates the proportion of jump points reserved."
   ]
  },
  {
   "cell_type": "code",
   "execution_count": 27,
   "metadata": {},
   "outputs": [
    {
     "data": {
      "image/png": "[encoded data removed]",
      "text/plain": [
       "<Figure size 640x480 with 1 Axes>"
      ]
     },
     "metadata": {},
     "output_type": "display_data"
    }
   ],
   "source": [
    "alg_max = last_particle(100, M, 190, 1, \"__max__\")\n",
    "for p in range(1, 10):\n",
    "    L_lp = []\n",
    "    values_lp = []\n",
    "    for _ in range(10):\n",
    "        L, values = alg_max.get_critical_level_and_distribution(70, 0.9, 0.07, 0.7, 1, 0.1, False, p=p/10)\n",
    "        L_lp.append(L)\n",
    "        values_lp = values_lp + values\n",
    "    plt.plot([p/10, p/10], [min(L_lp), max(L_lp)], marker='o')\n",
    "alg_max_2 = naive_MonteCarlo(N, 190, 1, \"__max__\")\n",
    "L_nM = []\n",
    "for _ in range(10):\n",
    "    L = alg_max_2.get_critical_level(70, 0.9, 0.07, 0.7, 1, 0.1)\n",
    "    L_nM.append(L)\n",
    "plt.axhline(y=min(L_nM), color='r', linestyle='-')\n",
    "plt.axhline(y=max(L_nM), color='r', linestyle='-')\n",
    "plt.show()"
   ]
  },
  {
   "cell_type": "markdown",
   "metadata": {},
   "source": [
    "We consider now the parametre $q\\in[0,1]$. The $q$ indicates the proportion of original value."
   ]
  },
  {
   "cell_type": "code",
   "execution_count": 28,
   "metadata": {},
   "outputs": [
    {
     "data": {
      "image/png": "[encoded data removed]",
      "text/plain": [
       "<Figure size 640x480 with 1 Axes>"
      ]
     },
     "metadata": {},
     "output_type": "display_data"
    }
   ],
   "source": [
    "alg_max = last_particle(100, M, 190, 1, \"__max__\")\n",
    "for q in range(1, 10):\n",
    "    L_lp = []\n",
    "    values_lp = []\n",
    "    for _ in range(10):\n",
    "        L, values = alg_max.get_critical_level_and_distribution(70, 0.9, 0.07, 0.7, 1, 0.1, False, q=q/10)\n",
    "        L_lp.append(L)\n",
    "        values_lp = values_lp + values\n",
    "    plt.plot([q/10, q/10], [min(L_lp), max(L_lp)], marker='o')\n",
    "alg_max_2 = naive_MonteCarlo(N, 190, 1, \"__max__\")\n",
    "L_nM = []\n",
    "for _ in range(10):\n",
    "    L = alg_max_2.get_critical_level(70, 0.9, 0.07, 0.7, 1, 0.1)\n",
    "    L_nM.append(L)\n",
    "plt.axhline(y=min(L_nM), color='r', linestyle='-')\n",
    "plt.axhline(y=max(L_nM), color='r', linestyle='-')\n",
    "plt.show()"
   ]
  }
 ],
 "metadata": {
  "kernelspec": {
   "display_name": "psc_new",
   "language": "python",
   "name": "python3"
  },
  "language_info": {
   "codemirror_mode": {
    "name": "ipython",
    "version": 3
   },
   "file_extension": ".py",
   "mimetype": "text/x-python",
   "name": "python",
   "nbconvert_exporter": "python",
   "pygments_lexer": "ipython3",
   "version": "3.11.3"
  }
 },
 "nbformat": 4,
 "nbformat_minor": 2
}
